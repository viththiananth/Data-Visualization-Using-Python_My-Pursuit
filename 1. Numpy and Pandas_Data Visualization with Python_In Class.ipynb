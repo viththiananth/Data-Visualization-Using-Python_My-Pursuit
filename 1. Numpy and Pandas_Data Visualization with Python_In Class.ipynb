{
 "cells": [
  {
   "cell_type": "code",
   "execution_count": 3,
   "metadata": {},
   "outputs": [],
   "source": [
    "import numpy as np\n",
    "import pandas as pd"
   ]
  },
  {
   "cell_type": "code",
   "execution_count": 4,
   "metadata": {
    "tags": []
   },
   "outputs": [
    {
     "output_type": "stream",
     "name": "stdout",
     "text": [
      "Requirement already satisfied: xlrd in e:\\programdata\\anaconda3\\lib\\site-packages (1.2.0)\n"
     ]
    }
   ],
   "source": [
    "!pip install xlrd"
   ]
  },
  {
   "source": [
    "## Import the Data File to Pandas"
   ],
   "cell_type": "markdown",
   "metadata": {}
  },
  {
   "cell_type": "code",
   "execution_count": 5,
   "metadata": {},
   "outputs": [],
   "source": [
    "df = pd.read_excel('canada.xlsx', sheet_name = 'Canada by Citizenship', skiprows=range(20), skipfooter=2)"
   ]
  },
  {
   "cell_type": "code",
   "execution_count": 6,
   "metadata": {},
   "outputs": [
    {
     "output_type": "execute_result",
     "data": {
      "text/plain": [
       "         Type    Coverage          OdName  AREA AreaName   REG  \\\n",
       "0  Immigrants  Foreigners     Afghanistan   935     Asia  5501   \n",
       "1  Immigrants  Foreigners         Albania   908   Europe   925   \n",
       "2  Immigrants  Foreigners         Algeria   903   Africa   912   \n",
       "3  Immigrants  Foreigners  American Samoa   909  Oceania   957   \n",
       "4  Immigrants  Foreigners         Andorra   908   Europe   925   \n",
       "\n",
       "           RegName  DEV             DevName  1980  ...  2004  2005  2006  \\\n",
       "0    Southern Asia  902  Developing regions    16  ...  2978  3436  3009   \n",
       "1  Southern Europe  901   Developed regions     1  ...  1450  1223   856   \n",
       "2  Northern Africa  902  Developing regions    80  ...  3616  3626  4807   \n",
       "3        Polynesia  902  Developing regions     0  ...     0     0     1   \n",
       "4  Southern Europe  901   Developed regions     0  ...     0     0     1   \n",
       "\n",
       "   2007  2008  2009  2010  2011  2012  2013  \n",
       "0  2652  2111  1746  1758  2203  2635  2004  \n",
       "1   702   560   716   561   539   620   603  \n",
       "2  3623  4005  5393  4752  4325  3774  4331  \n",
       "3     0     0     0     0     0     0     0  \n",
       "4     1     0     0     0     0     1     1  \n",
       "\n",
       "[5 rows x 43 columns]"
      ],
      "text/html": "<div>\n<style scoped>\n    .dataframe tbody tr th:only-of-type {\n        vertical-align: middle;\n    }\n\n    .dataframe tbody tr th {\n        vertical-align: top;\n    }\n\n    .dataframe thead th {\n        text-align: right;\n    }\n</style>\n<table border=\"1\" class=\"dataframe\">\n  <thead>\n    <tr style=\"text-align: right;\">\n      <th></th>\n      <th>Type</th>\n      <th>Coverage</th>\n      <th>OdName</th>\n      <th>AREA</th>\n      <th>AreaName</th>\n      <th>REG</th>\n      <th>RegName</th>\n      <th>DEV</th>\n      <th>DevName</th>\n      <th>1980</th>\n      <th>...</th>\n      <th>2004</th>\n      <th>2005</th>\n      <th>2006</th>\n      <th>2007</th>\n      <th>2008</th>\n      <th>2009</th>\n      <th>2010</th>\n      <th>2011</th>\n      <th>2012</th>\n      <th>2013</th>\n    </tr>\n  </thead>\n  <tbody>\n    <tr>\n      <th>0</th>\n      <td>Immigrants</td>\n      <td>Foreigners</td>\n      <td>Afghanistan</td>\n      <td>935</td>\n      <td>Asia</td>\n      <td>5501</td>\n      <td>Southern Asia</td>\n      <td>902</td>\n      <td>Developing regions</td>\n      <td>16</td>\n      <td>...</td>\n      <td>2978</td>\n      <td>3436</td>\n      <td>3009</td>\n      <td>2652</td>\n      <td>2111</td>\n      <td>1746</td>\n      <td>1758</td>\n      <td>2203</td>\n      <td>2635</td>\n      <td>2004</td>\n    </tr>\n    <tr>\n      <th>1</th>\n      <td>Immigrants</td>\n      <td>Foreigners</td>\n      <td>Albania</td>\n      <td>908</td>\n      <td>Europe</td>\n      <td>925</td>\n      <td>Southern Europe</td>\n      <td>901</td>\n      <td>Developed regions</td>\n      <td>1</td>\n      <td>...</td>\n      <td>1450</td>\n      <td>1223</td>\n      <td>856</td>\n      <td>702</td>\n      <td>560</td>\n      <td>716</td>\n      <td>561</td>\n      <td>539</td>\n      <td>620</td>\n      <td>603</td>\n    </tr>\n    <tr>\n      <th>2</th>\n      <td>Immigrants</td>\n      <td>Foreigners</td>\n      <td>Algeria</td>\n      <td>903</td>\n      <td>Africa</td>\n      <td>912</td>\n      <td>Northern Africa</td>\n      <td>902</td>\n      <td>Developing regions</td>\n      <td>80</td>\n      <td>...</td>\n      <td>3616</td>\n      <td>3626</td>\n      <td>4807</td>\n      <td>3623</td>\n      <td>4005</td>\n      <td>5393</td>\n      <td>4752</td>\n      <td>4325</td>\n      <td>3774</td>\n      <td>4331</td>\n    </tr>\n    <tr>\n      <th>3</th>\n      <td>Immigrants</td>\n      <td>Foreigners</td>\n      <td>American Samoa</td>\n      <td>909</td>\n      <td>Oceania</td>\n      <td>957</td>\n      <td>Polynesia</td>\n      <td>902</td>\n      <td>Developing regions</td>\n      <td>0</td>\n      <td>...</td>\n      <td>0</td>\n      <td>0</td>\n      <td>1</td>\n      <td>0</td>\n      <td>0</td>\n      <td>0</td>\n      <td>0</td>\n      <td>0</td>\n      <td>0</td>\n      <td>0</td>\n    </tr>\n    <tr>\n      <th>4</th>\n      <td>Immigrants</td>\n      <td>Foreigners</td>\n      <td>Andorra</td>\n      <td>908</td>\n      <td>Europe</td>\n      <td>925</td>\n      <td>Southern Europe</td>\n      <td>901</td>\n      <td>Developed regions</td>\n      <td>0</td>\n      <td>...</td>\n      <td>0</td>\n      <td>0</td>\n      <td>1</td>\n      <td>1</td>\n      <td>0</td>\n      <td>0</td>\n      <td>0</td>\n      <td>0</td>\n      <td>1</td>\n      <td>1</td>\n    </tr>\n  </tbody>\n</table>\n<p>5 rows × 43 columns</p>\n</div>"
     },
     "metadata": {},
     "execution_count": 6
    }
   ],
   "source": [
    "df.head()"
   ]
  },
  {
   "source": [
    "## Filtering Data using Area Name"
   ],
   "cell_type": "markdown",
   "metadata": {}
  },
  {
   "cell_type": "code",
   "execution_count": 7,
   "metadata": {},
   "outputs": [],
   "source": [
    "filtered_data = df[df.AreaName == 'Asia']"
   ]
  },
  {
   "cell_type": "code",
   "execution_count": 8,
   "metadata": {},
   "outputs": [
    {
     "output_type": "execute_result",
     "data": {
      "text/plain": [
       "          Type    Coverage       OdName  AREA AreaName   REG        RegName  \\\n",
       "0   Immigrants  Foreigners  Afghanistan   935     Asia  5501  Southern Asia   \n",
       "8   Immigrants  Foreigners      Armenia   935     Asia   922   Western Asia   \n",
       "11  Immigrants  Foreigners   Azerbaijan   935     Asia   922   Western Asia   \n",
       "13  Immigrants  Foreigners      Bahrain   935     Asia   922   Western Asia   \n",
       "14  Immigrants  Foreigners   Bangladesh   935     Asia  5501  Southern Asia   \n",
       "\n",
       "    DEV             DevName  1980  ...  2004  2005  2006  2007  2008  2009  \\\n",
       "0   902  Developing regions    16  ...  2978  3436  3009  2652  2111  1746   \n",
       "8   902  Developing regions     0  ...   147   224   218   198   205   267   \n",
       "11  902  Developing regions     0  ...   230   359   236   203   125   165   \n",
       "13  902  Developing regions     0  ...    12    12    12    22     9    35   \n",
       "14  902  Developing regions    83  ...  2660  4171  4014  2897  2939  2104   \n",
       "\n",
       "    2010  2011  2012  2013  \n",
       "0   1758  2203  2635  2004  \n",
       "8    252   236   258   207  \n",
       "11   209   138   161    57  \n",
       "13    28    21    39    32  \n",
       "14  4721  2694  2640  3789  \n",
       "\n",
       "[5 rows x 43 columns]"
      ],
      "text/html": "<div>\n<style scoped>\n    .dataframe tbody tr th:only-of-type {\n        vertical-align: middle;\n    }\n\n    .dataframe tbody tr th {\n        vertical-align: top;\n    }\n\n    .dataframe thead th {\n        text-align: right;\n    }\n</style>\n<table border=\"1\" class=\"dataframe\">\n  <thead>\n    <tr style=\"text-align: right;\">\n      <th></th>\n      <th>Type</th>\n      <th>Coverage</th>\n      <th>OdName</th>\n      <th>AREA</th>\n      <th>AreaName</th>\n      <th>REG</th>\n      <th>RegName</th>\n      <th>DEV</th>\n      <th>DevName</th>\n      <th>1980</th>\n      <th>...</th>\n      <th>2004</th>\n      <th>2005</th>\n      <th>2006</th>\n      <th>2007</th>\n      <th>2008</th>\n      <th>2009</th>\n      <th>2010</th>\n      <th>2011</th>\n      <th>2012</th>\n      <th>2013</th>\n    </tr>\n  </thead>\n  <tbody>\n    <tr>\n      <th>0</th>\n      <td>Immigrants</td>\n      <td>Foreigners</td>\n      <td>Afghanistan</td>\n      <td>935</td>\n      <td>Asia</td>\n      <td>5501</td>\n      <td>Southern Asia</td>\n      <td>902</td>\n      <td>Developing regions</td>\n      <td>16</td>\n      <td>...</td>\n      <td>2978</td>\n      <td>3436</td>\n      <td>3009</td>\n      <td>2652</td>\n      <td>2111</td>\n      <td>1746</td>\n      <td>1758</td>\n      <td>2203</td>\n      <td>2635</td>\n      <td>2004</td>\n    </tr>\n    <tr>\n      <th>8</th>\n      <td>Immigrants</td>\n      <td>Foreigners</td>\n      <td>Armenia</td>\n      <td>935</td>\n      <td>Asia</td>\n      <td>922</td>\n      <td>Western Asia</td>\n      <td>902</td>\n      <td>Developing regions</td>\n      <td>0</td>\n      <td>...</td>\n      <td>147</td>\n      <td>224</td>\n      <td>218</td>\n      <td>198</td>\n      <td>205</td>\n      <td>267</td>\n      <td>252</td>\n      <td>236</td>\n      <td>258</td>\n      <td>207</td>\n    </tr>\n    <tr>\n      <th>11</th>\n      <td>Immigrants</td>\n      <td>Foreigners</td>\n      <td>Azerbaijan</td>\n      <td>935</td>\n      <td>Asia</td>\n      <td>922</td>\n      <td>Western Asia</td>\n      <td>902</td>\n      <td>Developing regions</td>\n      <td>0</td>\n      <td>...</td>\n      <td>230</td>\n      <td>359</td>\n      <td>236</td>\n      <td>203</td>\n      <td>125</td>\n      <td>165</td>\n      <td>209</td>\n      <td>138</td>\n      <td>161</td>\n      <td>57</td>\n    </tr>\n    <tr>\n      <th>13</th>\n      <td>Immigrants</td>\n      <td>Foreigners</td>\n      <td>Bahrain</td>\n      <td>935</td>\n      <td>Asia</td>\n      <td>922</td>\n      <td>Western Asia</td>\n      <td>902</td>\n      <td>Developing regions</td>\n      <td>0</td>\n      <td>...</td>\n      <td>12</td>\n      <td>12</td>\n      <td>12</td>\n      <td>22</td>\n      <td>9</td>\n      <td>35</td>\n      <td>28</td>\n      <td>21</td>\n      <td>39</td>\n      <td>32</td>\n    </tr>\n    <tr>\n      <th>14</th>\n      <td>Immigrants</td>\n      <td>Foreigners</td>\n      <td>Bangladesh</td>\n      <td>935</td>\n      <td>Asia</td>\n      <td>5501</td>\n      <td>Southern Asia</td>\n      <td>902</td>\n      <td>Developing regions</td>\n      <td>83</td>\n      <td>...</td>\n      <td>2660</td>\n      <td>4171</td>\n      <td>4014</td>\n      <td>2897</td>\n      <td>2939</td>\n      <td>2104</td>\n      <td>4721</td>\n      <td>2694</td>\n      <td>2640</td>\n      <td>3789</td>\n    </tr>\n  </tbody>\n</table>\n<p>5 rows × 43 columns</p>\n</div>"
     },
     "metadata": {},
     "execution_count": 8
    }
   ],
   "source": [
    "filtered_data.head()"
   ]
  },
  {
   "cell_type": "markdown",
   "metadata": {},
   "source": [
    "## Adding a Row and Column, and make a total columnwise and Row Wise"
   ]
  },
  {
   "cell_type": "code",
   "execution_count": 9,
   "metadata": {},
   "outputs": [],
   "source": [
    "years = list(map(int,range(1980,2014)))"
   ]
  },
  {
   "cell_type": "code",
   "execution_count": 10,
   "metadata": {},
   "outputs": [
    {
     "output_type": "execute_result",
     "data": {
      "text/plain": [
       "     1980  1981  1982  1983  1984  1985  1986  1987  1988  1989  ...  2004  \\\n",
       "0      16    39    39    47    71   340   496   741   828  1076  ...  2978   \n",
       "1       1     0     0     0     0     0     1     2     2     3  ...  1450   \n",
       "2      80    67    71    69    63    44    69   132   242   434  ...  3616   \n",
       "3       0     1     0     0     0     0     0     1     0     1  ...     0   \n",
       "4       0     0     0     0     0     0     2     0     0     0  ...     0   \n",
       "..    ...   ...   ...   ...   ...   ...   ...   ...   ...   ...  ...   ...   \n",
       "190  1191  1829  2162  3404  7583  5907  2741  1406  1411  3004  ...  1816   \n",
       "191     0     0     0     0     0     0     0     0     0     0  ...     0   \n",
       "192     1     2     1     6     0    18     7    12     7    18  ...   124   \n",
       "193    11    17    11     7    16     9    15    23    44    68  ...    56   \n",
       "194    72   114   102    44    32    29    43    68    99   187  ...  1450   \n",
       "\n",
       "     2005  2006  2007  2008  2009  2010  2011  2012  2013  \n",
       "0    3436  3009  2652  2111  1746  1758  2203  2635  2004  \n",
       "1    1223   856   702   560   716   561   539   620   603  \n",
       "2    3626  4807  3623  4005  5393  4752  4325  3774  4331  \n",
       "3       0     1     0     0     0     0     0     0     0  \n",
       "4       0     1     1     0     0     0     0     1     1  \n",
       "..    ...   ...   ...   ...   ...   ...   ...   ...   ...  \n",
       "190  1852  3153  2574  1784  2171  1942  1723  1731  2112  \n",
       "191     0     1     0     0     0     0     0     0     0  \n",
       "192   161   140   122   133   128   211   160   174   217  \n",
       "193    91    77    71    64    60   102    69    46    59  \n",
       "194   615   454   663   611   508   494   434   437   407  \n",
       "\n",
       "[195 rows x 34 columns]"
      ],
      "text/html": "<div>\n<style scoped>\n    .dataframe tbody tr th:only-of-type {\n        vertical-align: middle;\n    }\n\n    .dataframe tbody tr th {\n        vertical-align: top;\n    }\n\n    .dataframe thead th {\n        text-align: right;\n    }\n</style>\n<table border=\"1\" class=\"dataframe\">\n  <thead>\n    <tr style=\"text-align: right;\">\n      <th></th>\n      <th>1980</th>\n      <th>1981</th>\n      <th>1982</th>\n      <th>1983</th>\n      <th>1984</th>\n      <th>1985</th>\n      <th>1986</th>\n      <th>1987</th>\n      <th>1988</th>\n      <th>1989</th>\n      <th>...</th>\n      <th>2004</th>\n      <th>2005</th>\n      <th>2006</th>\n      <th>2007</th>\n      <th>2008</th>\n      <th>2009</th>\n      <th>2010</th>\n      <th>2011</th>\n      <th>2012</th>\n      <th>2013</th>\n    </tr>\n  </thead>\n  <tbody>\n    <tr>\n      <th>0</th>\n      <td>16</td>\n      <td>39</td>\n      <td>39</td>\n      <td>47</td>\n      <td>71</td>\n      <td>340</td>\n      <td>496</td>\n      <td>741</td>\n      <td>828</td>\n      <td>1076</td>\n      <td>...</td>\n      <td>2978</td>\n      <td>3436</td>\n      <td>3009</td>\n      <td>2652</td>\n      <td>2111</td>\n      <td>1746</td>\n      <td>1758</td>\n      <td>2203</td>\n      <td>2635</td>\n      <td>2004</td>\n    </tr>\n    <tr>\n      <th>1</th>\n      <td>1</td>\n      <td>0</td>\n      <td>0</td>\n      <td>0</td>\n      <td>0</td>\n      <td>0</td>\n      <td>1</td>\n      <td>2</td>\n      <td>2</td>\n      <td>3</td>\n      <td>...</td>\n      <td>1450</td>\n      <td>1223</td>\n      <td>856</td>\n      <td>702</td>\n      <td>560</td>\n      <td>716</td>\n      <td>561</td>\n      <td>539</td>\n      <td>620</td>\n      <td>603</td>\n    </tr>\n    <tr>\n      <th>2</th>\n      <td>80</td>\n      <td>67</td>\n      <td>71</td>\n      <td>69</td>\n      <td>63</td>\n      <td>44</td>\n      <td>69</td>\n      <td>132</td>\n      <td>242</td>\n      <td>434</td>\n      <td>...</td>\n      <td>3616</td>\n      <td>3626</td>\n      <td>4807</td>\n      <td>3623</td>\n      <td>4005</td>\n      <td>5393</td>\n      <td>4752</td>\n      <td>4325</td>\n      <td>3774</td>\n      <td>4331</td>\n    </tr>\n    <tr>\n      <th>3</th>\n      <td>0</td>\n      <td>1</td>\n      <td>0</td>\n      <td>0</td>\n      <td>0</td>\n      <td>0</td>\n      <td>0</td>\n      <td>1</td>\n      <td>0</td>\n      <td>1</td>\n      <td>...</td>\n      <td>0</td>\n      <td>0</td>\n      <td>1</td>\n      <td>0</td>\n      <td>0</td>\n      <td>0</td>\n      <td>0</td>\n      <td>0</td>\n      <td>0</td>\n      <td>0</td>\n    </tr>\n    <tr>\n      <th>4</th>\n      <td>0</td>\n      <td>0</td>\n      <td>0</td>\n      <td>0</td>\n      <td>0</td>\n      <td>0</td>\n      <td>2</td>\n      <td>0</td>\n      <td>0</td>\n      <td>0</td>\n      <td>...</td>\n      <td>0</td>\n      <td>0</td>\n      <td>1</td>\n      <td>1</td>\n      <td>0</td>\n      <td>0</td>\n      <td>0</td>\n      <td>0</td>\n      <td>1</td>\n      <td>1</td>\n    </tr>\n    <tr>\n      <th>...</th>\n      <td>...</td>\n      <td>...</td>\n      <td>...</td>\n      <td>...</td>\n      <td>...</td>\n      <td>...</td>\n      <td>...</td>\n      <td>...</td>\n      <td>...</td>\n      <td>...</td>\n      <td>...</td>\n      <td>...</td>\n      <td>...</td>\n      <td>...</td>\n      <td>...</td>\n      <td>...</td>\n      <td>...</td>\n      <td>...</td>\n      <td>...</td>\n      <td>...</td>\n      <td>...</td>\n    </tr>\n    <tr>\n      <th>190</th>\n      <td>1191</td>\n      <td>1829</td>\n      <td>2162</td>\n      <td>3404</td>\n      <td>7583</td>\n      <td>5907</td>\n      <td>2741</td>\n      <td>1406</td>\n      <td>1411</td>\n      <td>3004</td>\n      <td>...</td>\n      <td>1816</td>\n      <td>1852</td>\n      <td>3153</td>\n      <td>2574</td>\n      <td>1784</td>\n      <td>2171</td>\n      <td>1942</td>\n      <td>1723</td>\n      <td>1731</td>\n      <td>2112</td>\n    </tr>\n    <tr>\n      <th>191</th>\n      <td>0</td>\n      <td>0</td>\n      <td>0</td>\n      <td>0</td>\n      <td>0</td>\n      <td>0</td>\n      <td>0</td>\n      <td>0</td>\n      <td>0</td>\n      <td>0</td>\n      <td>...</td>\n      <td>0</td>\n      <td>0</td>\n      <td>1</td>\n      <td>0</td>\n      <td>0</td>\n      <td>0</td>\n      <td>0</td>\n      <td>0</td>\n      <td>0</td>\n      <td>0</td>\n    </tr>\n    <tr>\n      <th>192</th>\n      <td>1</td>\n      <td>2</td>\n      <td>1</td>\n      <td>6</td>\n      <td>0</td>\n      <td>18</td>\n      <td>7</td>\n      <td>12</td>\n      <td>7</td>\n      <td>18</td>\n      <td>...</td>\n      <td>124</td>\n      <td>161</td>\n      <td>140</td>\n      <td>122</td>\n      <td>133</td>\n      <td>128</td>\n      <td>211</td>\n      <td>160</td>\n      <td>174</td>\n      <td>217</td>\n    </tr>\n    <tr>\n      <th>193</th>\n      <td>11</td>\n      <td>17</td>\n      <td>11</td>\n      <td>7</td>\n      <td>16</td>\n      <td>9</td>\n      <td>15</td>\n      <td>23</td>\n      <td>44</td>\n      <td>68</td>\n      <td>...</td>\n      <td>56</td>\n      <td>91</td>\n      <td>77</td>\n      <td>71</td>\n      <td>64</td>\n      <td>60</td>\n      <td>102</td>\n      <td>69</td>\n      <td>46</td>\n      <td>59</td>\n    </tr>\n    <tr>\n      <th>194</th>\n      <td>72</td>\n      <td>114</td>\n      <td>102</td>\n      <td>44</td>\n      <td>32</td>\n      <td>29</td>\n      <td>43</td>\n      <td>68</td>\n      <td>99</td>\n      <td>187</td>\n      <td>...</td>\n      <td>1450</td>\n      <td>615</td>\n      <td>454</td>\n      <td>663</td>\n      <td>611</td>\n      <td>508</td>\n      <td>494</td>\n      <td>434</td>\n      <td>437</td>\n      <td>407</td>\n    </tr>\n  </tbody>\n</table>\n<p>195 rows × 34 columns</p>\n</div>"
     },
     "metadata": {},
     "execution_count": 10
    }
   ],
   "source": [
    "df[years]"
   ]
  },
  {
   "source": [
    "## Adding new column, and sum the exisiting Data"
   ],
   "cell_type": "markdown",
   "metadata": {}
  },
  {
   "cell_type": "code",
   "execution_count": 11,
   "metadata": {},
   "outputs": [],
   "source": [
    "df['Total'] = df[years].sum(axis = 1, skipna = True)"
   ]
  },
  {
   "cell_type": "code",
   "execution_count": 12,
   "metadata": {},
   "outputs": [],
   "source": [
    "df.loc['Coulumn_Total',:] = df[years].sum(axis=0, skipna = True)"
   ]
  },
  {
   "source": [
    "## Fill NA with empty string"
   ],
   "cell_type": "markdown",
   "metadata": {}
  },
  {
   "cell_type": "code",
   "execution_count": 13,
   "metadata": {},
   "outputs": [],
   "source": [
    "df = df.fillna('')"
   ]
  },
  {
   "cell_type": "code",
   "execution_count": 14,
   "metadata": {},
   "outputs": [
    {
     "output_type": "execute_result",
     "data": {
      "text/plain": [
       "                     Type    Coverage          OdName AREA AreaName  REG  \\\n",
       "191            Immigrants  Foreigners  Western Sahara  903   Africa  912   \n",
       "192            Immigrants  Foreigners           Yemen  935     Asia  922   \n",
       "193            Immigrants  Foreigners          Zambia  903   Africa  910   \n",
       "194            Immigrants  Foreigners        Zimbabwe  903   Africa  910   \n",
       "Coulumn_Total                                                              \n",
       "\n",
       "                       RegName  DEV             DevName     1980  ...  \\\n",
       "191            Northern Africa  902  Developing regions      0.0  ...   \n",
       "192               Western Asia  902  Developing regions      1.0  ...   \n",
       "193             Eastern Africa  902  Developing regions     11.0  ...   \n",
       "194             Eastern Africa  902  Developing regions     72.0  ...   \n",
       "Coulumn_Total                                            99137.0  ...   \n",
       "\n",
       "                   2005      2006      2007      2008      2009      2010  \\\n",
       "191                 0.0       1.0       0.0       0.0       0.0       0.0   \n",
       "192               161.0     140.0     122.0     133.0     128.0     211.0   \n",
       "193                91.0      77.0      71.0      64.0      60.0     102.0   \n",
       "194               615.0     454.0     663.0     611.0     508.0     494.0   \n",
       "Coulumn_Total  257457.0  247057.0  232405.0  243047.0  248768.0  276956.0   \n",
       "\n",
       "                   2011      2012      2013  Total  \n",
       "191                 0.0       0.0       0.0      2  \n",
       "192               160.0     174.0     217.0   2985  \n",
       "193                69.0      46.0      59.0   1677  \n",
       "194               434.0     437.0     407.0   8598  \n",
       "Coulumn_Total  246194.0  256222.0  257537.0         \n",
       "\n",
       "[5 rows x 44 columns]"
      ],
      "text/html": "<div>\n<style scoped>\n    .dataframe tbody tr th:only-of-type {\n        vertical-align: middle;\n    }\n\n    .dataframe tbody tr th {\n        vertical-align: top;\n    }\n\n    .dataframe thead th {\n        text-align: right;\n    }\n</style>\n<table border=\"1\" class=\"dataframe\">\n  <thead>\n    <tr style=\"text-align: right;\">\n      <th></th>\n      <th>Type</th>\n      <th>Coverage</th>\n      <th>OdName</th>\n      <th>AREA</th>\n      <th>AreaName</th>\n      <th>REG</th>\n      <th>RegName</th>\n      <th>DEV</th>\n      <th>DevName</th>\n      <th>1980</th>\n      <th>...</th>\n      <th>2005</th>\n      <th>2006</th>\n      <th>2007</th>\n      <th>2008</th>\n      <th>2009</th>\n      <th>2010</th>\n      <th>2011</th>\n      <th>2012</th>\n      <th>2013</th>\n      <th>Total</th>\n    </tr>\n  </thead>\n  <tbody>\n    <tr>\n      <th>191</th>\n      <td>Immigrants</td>\n      <td>Foreigners</td>\n      <td>Western Sahara</td>\n      <td>903</td>\n      <td>Africa</td>\n      <td>912</td>\n      <td>Northern Africa</td>\n      <td>902</td>\n      <td>Developing regions</td>\n      <td>0.0</td>\n      <td>...</td>\n      <td>0.0</td>\n      <td>1.0</td>\n      <td>0.0</td>\n      <td>0.0</td>\n      <td>0.0</td>\n      <td>0.0</td>\n      <td>0.0</td>\n      <td>0.0</td>\n      <td>0.0</td>\n      <td>2</td>\n    </tr>\n    <tr>\n      <th>192</th>\n      <td>Immigrants</td>\n      <td>Foreigners</td>\n      <td>Yemen</td>\n      <td>935</td>\n      <td>Asia</td>\n      <td>922</td>\n      <td>Western Asia</td>\n      <td>902</td>\n      <td>Developing regions</td>\n      <td>1.0</td>\n      <td>...</td>\n      <td>161.0</td>\n      <td>140.0</td>\n      <td>122.0</td>\n      <td>133.0</td>\n      <td>128.0</td>\n      <td>211.0</td>\n      <td>160.0</td>\n      <td>174.0</td>\n      <td>217.0</td>\n      <td>2985</td>\n    </tr>\n    <tr>\n      <th>193</th>\n      <td>Immigrants</td>\n      <td>Foreigners</td>\n      <td>Zambia</td>\n      <td>903</td>\n      <td>Africa</td>\n      <td>910</td>\n      <td>Eastern Africa</td>\n      <td>902</td>\n      <td>Developing regions</td>\n      <td>11.0</td>\n      <td>...</td>\n      <td>91.0</td>\n      <td>77.0</td>\n      <td>71.0</td>\n      <td>64.0</td>\n      <td>60.0</td>\n      <td>102.0</td>\n      <td>69.0</td>\n      <td>46.0</td>\n      <td>59.0</td>\n      <td>1677</td>\n    </tr>\n    <tr>\n      <th>194</th>\n      <td>Immigrants</td>\n      <td>Foreigners</td>\n      <td>Zimbabwe</td>\n      <td>903</td>\n      <td>Africa</td>\n      <td>910</td>\n      <td>Eastern Africa</td>\n      <td>902</td>\n      <td>Developing regions</td>\n      <td>72.0</td>\n      <td>...</td>\n      <td>615.0</td>\n      <td>454.0</td>\n      <td>663.0</td>\n      <td>611.0</td>\n      <td>508.0</td>\n      <td>494.0</td>\n      <td>434.0</td>\n      <td>437.0</td>\n      <td>407.0</td>\n      <td>8598</td>\n    </tr>\n    <tr>\n      <th>Coulumn_Total</th>\n      <td></td>\n      <td></td>\n      <td></td>\n      <td></td>\n      <td></td>\n      <td></td>\n      <td></td>\n      <td></td>\n      <td></td>\n      <td>99137.0</td>\n      <td>...</td>\n      <td>257457.0</td>\n      <td>247057.0</td>\n      <td>232405.0</td>\n      <td>243047.0</td>\n      <td>248768.0</td>\n      <td>276956.0</td>\n      <td>246194.0</td>\n      <td>256222.0</td>\n      <td>257537.0</td>\n      <td></td>\n    </tr>\n  </tbody>\n</table>\n<p>5 rows × 44 columns</p>\n</div>"
     },
     "metadata": {},
     "execution_count": 14
    }
   ],
   "source": [
    "df.tail()"
   ]
  },
  {
   "source": [
    "## Change the Complete Column to Numeric"
   ],
   "cell_type": "markdown",
   "metadata": {}
  },
  {
   "source": [
    "df[[\"Total\"]] = df[[\"Total\"]].apply(pd.to_numeric)"
   ],
   "cell_type": "code",
   "metadata": {},
   "execution_count": null,
   "outputs": []
  },
  {
   "source": [
    "## Assingn the Filtered data to another Data Frame"
   ],
   "cell_type": "markdown",
   "metadata": {}
  },
  {
   "cell_type": "code",
   "execution_count": 22,
   "metadata": {},
   "outputs": [],
   "source": [
    "filterd_data1 = df[(df.Total > 3000)]"
   ]
  },
  {
   "cell_type": "code",
   "execution_count": 23,
   "metadata": {},
   "outputs": [],
   "source": [
    "filterd_data2 = df[(df.Total > 3000)&(df.AreaName == 'Asia')]"
   ]
  },
  {
   "cell_type": "code",
   "execution_count": 24,
   "metadata": {},
   "outputs": [
    {
     "output_type": "execute_result",
     "data": {
      "text/plain": [
       "           Type    Coverage                              OdName AREA  \\\n",
       "186  Immigrants  Foreigners                             Uruguay  904   \n",
       "187  Immigrants  Foreigners                          Uzbekistan  935   \n",
       "189  Immigrants  Foreigners  Venezuela (Bolivarian Republic of)  904   \n",
       "190  Immigrants  Foreigners                            Viet Nam  935   \n",
       "194  Immigrants  Foreigners                            Zimbabwe  903   \n",
       "\n",
       "                            AreaName   REG             RegName  DEV  \\\n",
       "186  Latin America and the Caribbean   931       South America  902   \n",
       "187                             Asia  5500        Central Asia  902   \n",
       "189  Latin America and the Caribbean   931       South America  902   \n",
       "190                             Asia   920  South-Eastern Asia  902   \n",
       "194                           Africa   910      Eastern Africa  902   \n",
       "\n",
       "                DevName    1980  ...    2005    2006    2007    2008    2009  \\\n",
       "186  Developing regions   128.0  ...   217.0   175.0   147.0   160.0    99.0   \n",
       "187  Developing regions     0.0  ...   330.0   262.0   284.0   215.0   288.0   \n",
       "189  Developing regions   103.0  ...  1211.0  1192.0  1335.0  1239.0  1353.0   \n",
       "190  Developing regions  1191.0  ...  1852.0  3153.0  2574.0  1784.0  2171.0   \n",
       "194  Developing regions    72.0  ...   615.0   454.0   663.0   611.0   508.0   \n",
       "\n",
       "       2010    2011    2012    2013    Total  \n",
       "186    93.0    81.0    47.0    58.0   4715.0  \n",
       "187   289.0   162.0   235.0   167.0   3368.0  \n",
       "189   998.0  1452.0  1373.0  1022.0  21267.0  \n",
       "190  1942.0  1723.0  1731.0  2112.0  97146.0  \n",
       "194   494.0   434.0   437.0   407.0   8598.0  \n",
       "\n",
       "[5 rows x 44 columns]"
      ],
      "text/html": "<div>\n<style scoped>\n    .dataframe tbody tr th:only-of-type {\n        vertical-align: middle;\n    }\n\n    .dataframe tbody tr th {\n        vertical-align: top;\n    }\n\n    .dataframe thead th {\n        text-align: right;\n    }\n</style>\n<table border=\"1\" class=\"dataframe\">\n  <thead>\n    <tr style=\"text-align: right;\">\n      <th></th>\n      <th>Type</th>\n      <th>Coverage</th>\n      <th>OdName</th>\n      <th>AREA</th>\n      <th>AreaName</th>\n      <th>REG</th>\n      <th>RegName</th>\n      <th>DEV</th>\n      <th>DevName</th>\n      <th>1980</th>\n      <th>...</th>\n      <th>2005</th>\n      <th>2006</th>\n      <th>2007</th>\n      <th>2008</th>\n      <th>2009</th>\n      <th>2010</th>\n      <th>2011</th>\n      <th>2012</th>\n      <th>2013</th>\n      <th>Total</th>\n    </tr>\n  </thead>\n  <tbody>\n    <tr>\n      <th>186</th>\n      <td>Immigrants</td>\n      <td>Foreigners</td>\n      <td>Uruguay</td>\n      <td>904</td>\n      <td>Latin America and the Caribbean</td>\n      <td>931</td>\n      <td>South America</td>\n      <td>902</td>\n      <td>Developing regions</td>\n      <td>128.0</td>\n      <td>...</td>\n      <td>217.0</td>\n      <td>175.0</td>\n      <td>147.0</td>\n      <td>160.0</td>\n      <td>99.0</td>\n      <td>93.0</td>\n      <td>81.0</td>\n      <td>47.0</td>\n      <td>58.0</td>\n      <td>4715.0</td>\n    </tr>\n    <tr>\n      <th>187</th>\n      <td>Immigrants</td>\n      <td>Foreigners</td>\n      <td>Uzbekistan</td>\n      <td>935</td>\n      <td>Asia</td>\n      <td>5500</td>\n      <td>Central Asia</td>\n      <td>902</td>\n      <td>Developing regions</td>\n      <td>0.0</td>\n      <td>...</td>\n      <td>330.0</td>\n      <td>262.0</td>\n      <td>284.0</td>\n      <td>215.0</td>\n      <td>288.0</td>\n      <td>289.0</td>\n      <td>162.0</td>\n      <td>235.0</td>\n      <td>167.0</td>\n      <td>3368.0</td>\n    </tr>\n    <tr>\n      <th>189</th>\n      <td>Immigrants</td>\n      <td>Foreigners</td>\n      <td>Venezuela (Bolivarian Republic of)</td>\n      <td>904</td>\n      <td>Latin America and the Caribbean</td>\n      <td>931</td>\n      <td>South America</td>\n      <td>902</td>\n      <td>Developing regions</td>\n      <td>103.0</td>\n      <td>...</td>\n      <td>1211.0</td>\n      <td>1192.0</td>\n      <td>1335.0</td>\n      <td>1239.0</td>\n      <td>1353.0</td>\n      <td>998.0</td>\n      <td>1452.0</td>\n      <td>1373.0</td>\n      <td>1022.0</td>\n      <td>21267.0</td>\n    </tr>\n    <tr>\n      <th>190</th>\n      <td>Immigrants</td>\n      <td>Foreigners</td>\n      <td>Viet Nam</td>\n      <td>935</td>\n      <td>Asia</td>\n      <td>920</td>\n      <td>South-Eastern Asia</td>\n      <td>902</td>\n      <td>Developing regions</td>\n      <td>1191.0</td>\n      <td>...</td>\n      <td>1852.0</td>\n      <td>3153.0</td>\n      <td>2574.0</td>\n      <td>1784.0</td>\n      <td>2171.0</td>\n      <td>1942.0</td>\n      <td>1723.0</td>\n      <td>1731.0</td>\n      <td>2112.0</td>\n      <td>97146.0</td>\n    </tr>\n    <tr>\n      <th>194</th>\n      <td>Immigrants</td>\n      <td>Foreigners</td>\n      <td>Zimbabwe</td>\n      <td>903</td>\n      <td>Africa</td>\n      <td>910</td>\n      <td>Eastern Africa</td>\n      <td>902</td>\n      <td>Developing regions</td>\n      <td>72.0</td>\n      <td>...</td>\n      <td>615.0</td>\n      <td>454.0</td>\n      <td>663.0</td>\n      <td>611.0</td>\n      <td>508.0</td>\n      <td>494.0</td>\n      <td>434.0</td>\n      <td>437.0</td>\n      <td>407.0</td>\n      <td>8598.0</td>\n    </tr>\n  </tbody>\n</table>\n<p>5 rows × 44 columns</p>\n</div>"
     },
     "metadata": {},
     "execution_count": 24
    }
   ],
   "source": [
    "filterd_data1.tail()"
   ]
  },
  {
   "cell_type": "code",
   "execution_count": 25,
   "metadata": {},
   "outputs": [
    {
     "output_type": "execute_result",
     "data": {
      "text/plain": [
       "          Type    Coverage       OdName AREA AreaName   REG  \\\n",
       "0   Immigrants  Foreigners  Afghanistan  935     Asia  5501   \n",
       "8   Immigrants  Foreigners      Armenia  935     Asia   922   \n",
       "14  Immigrants  Foreigners   Bangladesh  935     Asia  5501   \n",
       "20  Immigrants  Foreigners       Bhutan  935     Asia  5501   \n",
       "30  Immigrants  Foreigners     Cambodia  935     Asia   920   \n",
       "\n",
       "               RegName  DEV             DevName  1980  ...    2005    2006  \\\n",
       "0        Southern Asia  902  Developing regions  16.0  ...  3436.0  3009.0   \n",
       "8         Western Asia  902  Developing regions   0.0  ...   224.0   218.0   \n",
       "14       Southern Asia  902  Developing regions  83.0  ...  4171.0  4014.0   \n",
       "20       Southern Asia  902  Developing regions   0.0  ...     5.0    10.0   \n",
       "30  South-Eastern Asia  902  Developing regions  12.0  ...   370.0   529.0   \n",
       "\n",
       "      2007    2008    2009    2010    2011    2012    2013    Total  \n",
       "0   2652.0  2111.0  1746.0  1758.0  2203.0  2635.0  2004.0  58639.0  \n",
       "8    198.0   205.0   267.0   252.0   236.0   258.0   207.0   3310.0  \n",
       "14  2897.0  2939.0  2104.0  4721.0  2694.0  2640.0  3789.0  65568.0  \n",
       "20     7.0    36.0   865.0  1464.0  1879.0  1075.0   487.0   5876.0  \n",
       "30   460.0   354.0   203.0   200.0   196.0   233.0   288.0   6538.0  \n",
       "\n",
       "[5 rows x 44 columns]"
      ],
      "text/html": "<div>\n<style scoped>\n    .dataframe tbody tr th:only-of-type {\n        vertical-align: middle;\n    }\n\n    .dataframe tbody tr th {\n        vertical-align: top;\n    }\n\n    .dataframe thead th {\n        text-align: right;\n    }\n</style>\n<table border=\"1\" class=\"dataframe\">\n  <thead>\n    <tr style=\"text-align: right;\">\n      <th></th>\n      <th>Type</th>\n      <th>Coverage</th>\n      <th>OdName</th>\n      <th>AREA</th>\n      <th>AreaName</th>\n      <th>REG</th>\n      <th>RegName</th>\n      <th>DEV</th>\n      <th>DevName</th>\n      <th>1980</th>\n      <th>...</th>\n      <th>2005</th>\n      <th>2006</th>\n      <th>2007</th>\n      <th>2008</th>\n      <th>2009</th>\n      <th>2010</th>\n      <th>2011</th>\n      <th>2012</th>\n      <th>2013</th>\n      <th>Total</th>\n    </tr>\n  </thead>\n  <tbody>\n    <tr>\n      <th>0</th>\n      <td>Immigrants</td>\n      <td>Foreigners</td>\n      <td>Afghanistan</td>\n      <td>935</td>\n      <td>Asia</td>\n      <td>5501</td>\n      <td>Southern Asia</td>\n      <td>902</td>\n      <td>Developing regions</td>\n      <td>16.0</td>\n      <td>...</td>\n      <td>3436.0</td>\n      <td>3009.0</td>\n      <td>2652.0</td>\n      <td>2111.0</td>\n      <td>1746.0</td>\n      <td>1758.0</td>\n      <td>2203.0</td>\n      <td>2635.0</td>\n      <td>2004.0</td>\n      <td>58639.0</td>\n    </tr>\n    <tr>\n      <th>8</th>\n      <td>Immigrants</td>\n      <td>Foreigners</td>\n      <td>Armenia</td>\n      <td>935</td>\n      <td>Asia</td>\n      <td>922</td>\n      <td>Western Asia</td>\n      <td>902</td>\n      <td>Developing regions</td>\n      <td>0.0</td>\n      <td>...</td>\n      <td>224.0</td>\n      <td>218.0</td>\n      <td>198.0</td>\n      <td>205.0</td>\n      <td>267.0</td>\n      <td>252.0</td>\n      <td>236.0</td>\n      <td>258.0</td>\n      <td>207.0</td>\n      <td>3310.0</td>\n    </tr>\n    <tr>\n      <th>14</th>\n      <td>Immigrants</td>\n      <td>Foreigners</td>\n      <td>Bangladesh</td>\n      <td>935</td>\n      <td>Asia</td>\n      <td>5501</td>\n      <td>Southern Asia</td>\n      <td>902</td>\n      <td>Developing regions</td>\n      <td>83.0</td>\n      <td>...</td>\n      <td>4171.0</td>\n      <td>4014.0</td>\n      <td>2897.0</td>\n      <td>2939.0</td>\n      <td>2104.0</td>\n      <td>4721.0</td>\n      <td>2694.0</td>\n      <td>2640.0</td>\n      <td>3789.0</td>\n      <td>65568.0</td>\n    </tr>\n    <tr>\n      <th>20</th>\n      <td>Immigrants</td>\n      <td>Foreigners</td>\n      <td>Bhutan</td>\n      <td>935</td>\n      <td>Asia</td>\n      <td>5501</td>\n      <td>Southern Asia</td>\n      <td>902</td>\n      <td>Developing regions</td>\n      <td>0.0</td>\n      <td>...</td>\n      <td>5.0</td>\n      <td>10.0</td>\n      <td>7.0</td>\n      <td>36.0</td>\n      <td>865.0</td>\n      <td>1464.0</td>\n      <td>1879.0</td>\n      <td>1075.0</td>\n      <td>487.0</td>\n      <td>5876.0</td>\n    </tr>\n    <tr>\n      <th>30</th>\n      <td>Immigrants</td>\n      <td>Foreigners</td>\n      <td>Cambodia</td>\n      <td>935</td>\n      <td>Asia</td>\n      <td>920</td>\n      <td>South-Eastern Asia</td>\n      <td>902</td>\n      <td>Developing regions</td>\n      <td>12.0</td>\n      <td>...</td>\n      <td>370.0</td>\n      <td>529.0</td>\n      <td>460.0</td>\n      <td>354.0</td>\n      <td>203.0</td>\n      <td>200.0</td>\n      <td>196.0</td>\n      <td>233.0</td>\n      <td>288.0</td>\n      <td>6538.0</td>\n    </tr>\n  </tbody>\n</table>\n<p>5 rows × 44 columns</p>\n</div>"
     },
     "metadata": {},
     "execution_count": 25
    }
   ],
   "source": [
    "filterd_data2.head()"
   ]
  },
  {
   "source": [
    "## Mean"
   ],
   "cell_type": "markdown",
   "metadata": {}
  },
  {
   "cell_type": "code",
   "execution_count": 30,
   "metadata": {},
   "outputs": [
    {
     "output_type": "execute_result",
     "data": {
      "text/plain": [
       "1980    1011.602041\n",
       "1981    1128.193878\n",
       "1982    1063.989796\n",
       "1983     770.918367\n",
       "1984     749.153061\n",
       "1985     714.061224\n",
       "1986     878.040816\n",
       "1987    1375.214286\n",
       "1988    1421.489796\n",
       "1989    1677.877551\n",
       "1990    1918.918367\n",
       "1991    2117.438776\n",
       "1992    2262.112245\n",
       "1993    2265.806122\n",
       "1994    1976.173469\n",
       "1995    1915.428571\n",
       "1996    2041.683673\n",
       "1997    1968.214286\n",
       "1998    1640.071429\n",
       "1999    1834.877551\n",
       "2000    2211.346939\n",
       "2001    2475.948980\n",
       "2002    2276.642857\n",
       "2003    2217.316327\n",
       "2004    2368.193878\n",
       "2005    2627.112245\n",
       "2006    2520.989796\n",
       "2007    2371.479592\n",
       "2008    2480.071429\n",
       "2009    2538.448980\n",
       "2010    2826.081633\n",
       "2011    2512.183673\n",
       "2012    2614.510204\n",
       "2013    2627.928571\n",
       "dtype: float64"
      ]
     },
     "metadata": {},
     "execution_count": 30
    }
   ],
   "source": [
    "df[years].apply(np.mean)"
   ]
  },
  {
   "cell_type": "code",
   "execution_count": 31,
   "metadata": {},
   "outputs": [
    {
     "output_type": "execute_result",
     "data": {
      "text/plain": [
       "0                  1724.676471\n",
       "1                   461.735294\n",
       "2                  2042.323529\n",
       "3                     0.176471\n",
       "4                     0.441176\n",
       "                     ...      \n",
       "191                   0.058824\n",
       "192                  87.794118\n",
       "193                  49.323529\n",
       "194                 252.882353\n",
       "Coulumn_Total    188504.500000\n",
       "Length: 196, dtype: float64"
      ]
     },
     "metadata": {},
     "execution_count": 31
    }
   ],
   "source": [
    "df[years].apply(np.mean, axis=1)"
   ]
  },
  {
   "source": [
    "## Get the Range for each Year Column"
   ],
   "cell_type": "markdown",
   "metadata": {}
  },
  {
   "cell_type": "code",
   "execution_count": 32,
   "metadata": {},
   "outputs": [
    {
     "output_type": "execute_result",
     "data": {
      "text/plain": [
       "1980     99137.0\n",
       "1981    110563.0\n",
       "1982    104271.0\n",
       "1983     75550.0\n",
       "1984     73417.0\n",
       "1985     69978.0\n",
       "1986     86048.0\n",
       "1987    134771.0\n",
       "1988    139306.0\n",
       "1989    164432.0\n",
       "1990    188054.0\n",
       "1991    207509.0\n",
       "1992    221687.0\n",
       "1993    222049.0\n",
       "1994    193665.0\n",
       "1995    187712.0\n",
       "1996    200085.0\n",
       "1997    192885.0\n",
       "1998    160727.0\n",
       "1999    179818.0\n",
       "2000    216712.0\n",
       "2001    242643.0\n",
       "2002    223111.0\n",
       "2003    217297.0\n",
       "2004    232083.0\n",
       "2005    257457.0\n",
       "2006    247057.0\n",
       "2007    232405.0\n",
       "2008    243047.0\n",
       "2009    248768.0\n",
       "2010    276956.0\n",
       "2011    246194.0\n",
       "2012    256222.0\n",
       "2013    257537.0\n",
       "dtype: float64"
      ]
     },
     "metadata": {},
     "execution_count": 32
    }
   ],
   "source": [
    "df[years].apply(lambda x:x.max()-x.min())"
   ]
  },
  {
   "source": [
    "## Use With Functions"
   ],
   "cell_type": "markdown",
   "metadata": {}
  },
  {
   "cell_type": "code",
   "execution_count": 33,
   "metadata": {},
   "outputs": [],
   "source": [
    "def predicted_immigrants(x):\n",
    "    immigrants_2014 = x * 1.12\n",
    "    return immigrants_2014\n",
    "\n",
    "df['predicted_immigrants'] = df[2013].apply(predicted_immigrants)"
   ]
  },
  {
   "cell_type": "code",
   "execution_count": 34,
   "metadata": {},
   "outputs": [
    {
     "output_type": "execute_result",
     "data": {
      "text/plain": [
       "         Type    Coverage          OdName AREA AreaName   REG  \\\n",
       "0  Immigrants  Foreigners     Afghanistan  935     Asia  5501   \n",
       "1  Immigrants  Foreigners         Albania  908   Europe   925   \n",
       "2  Immigrants  Foreigners         Algeria  903   Africa   912   \n",
       "3  Immigrants  Foreigners  American Samoa  909  Oceania   957   \n",
       "4  Immigrants  Foreigners         Andorra  908   Europe   925   \n",
       "\n",
       "           RegName  DEV             DevName  1980  ...    2006    2007  \\\n",
       "0    Southern Asia  902  Developing regions  16.0  ...  3009.0  2652.0   \n",
       "1  Southern Europe  901   Developed regions   1.0  ...   856.0   702.0   \n",
       "2  Northern Africa  902  Developing regions  80.0  ...  4807.0  3623.0   \n",
       "3        Polynesia  902  Developing regions   0.0  ...     1.0     0.0   \n",
       "4  Southern Europe  901   Developed regions   0.0  ...     1.0     1.0   \n",
       "\n",
       "     2008    2009    2010    2011    2012    2013  Total  predicted_immigrants  \n",
       "0  2111.0  1746.0  1758.0  2203.0  2635.0  2004.0  58639               2244.48  \n",
       "1   560.0   716.0   561.0   539.0   620.0   603.0  15699                675.36  \n",
       "2  4005.0  5393.0  4752.0  4325.0  3774.0  4331.0  69439               4850.72  \n",
       "3     0.0     0.0     0.0     0.0     0.0     0.0      6                  0.00  \n",
       "4     0.0     0.0     0.0     0.0     1.0     1.0     15                  1.12  \n",
       "\n",
       "[5 rows x 45 columns]"
      ],
      "text/html": "<div>\n<style scoped>\n    .dataframe tbody tr th:only-of-type {\n        vertical-align: middle;\n    }\n\n    .dataframe tbody tr th {\n        vertical-align: top;\n    }\n\n    .dataframe thead th {\n        text-align: right;\n    }\n</style>\n<table border=\"1\" class=\"dataframe\">\n  <thead>\n    <tr style=\"text-align: right;\">\n      <th></th>\n      <th>Type</th>\n      <th>Coverage</th>\n      <th>OdName</th>\n      <th>AREA</th>\n      <th>AreaName</th>\n      <th>REG</th>\n      <th>RegName</th>\n      <th>DEV</th>\n      <th>DevName</th>\n      <th>1980</th>\n      <th>...</th>\n      <th>2006</th>\n      <th>2007</th>\n      <th>2008</th>\n      <th>2009</th>\n      <th>2010</th>\n      <th>2011</th>\n      <th>2012</th>\n      <th>2013</th>\n      <th>Total</th>\n      <th>predicted_immigrants</th>\n    </tr>\n  </thead>\n  <tbody>\n    <tr>\n      <th>0</th>\n      <td>Immigrants</td>\n      <td>Foreigners</td>\n      <td>Afghanistan</td>\n      <td>935</td>\n      <td>Asia</td>\n      <td>5501</td>\n      <td>Southern Asia</td>\n      <td>902</td>\n      <td>Developing regions</td>\n      <td>16.0</td>\n      <td>...</td>\n      <td>3009.0</td>\n      <td>2652.0</td>\n      <td>2111.0</td>\n      <td>1746.0</td>\n      <td>1758.0</td>\n      <td>2203.0</td>\n      <td>2635.0</td>\n      <td>2004.0</td>\n      <td>58639</td>\n      <td>2244.48</td>\n    </tr>\n    <tr>\n      <th>1</th>\n      <td>Immigrants</td>\n      <td>Foreigners</td>\n      <td>Albania</td>\n      <td>908</td>\n      <td>Europe</td>\n      <td>925</td>\n      <td>Southern Europe</td>\n      <td>901</td>\n      <td>Developed regions</td>\n      <td>1.0</td>\n      <td>...</td>\n      <td>856.0</td>\n      <td>702.0</td>\n      <td>560.0</td>\n      <td>716.0</td>\n      <td>561.0</td>\n      <td>539.0</td>\n      <td>620.0</td>\n      <td>603.0</td>\n      <td>15699</td>\n      <td>675.36</td>\n    </tr>\n    <tr>\n      <th>2</th>\n      <td>Immigrants</td>\n      <td>Foreigners</td>\n      <td>Algeria</td>\n      <td>903</td>\n      <td>Africa</td>\n      <td>912</td>\n      <td>Northern Africa</td>\n      <td>902</td>\n      <td>Developing regions</td>\n      <td>80.0</td>\n      <td>...</td>\n      <td>4807.0</td>\n      <td>3623.0</td>\n      <td>4005.0</td>\n      <td>5393.0</td>\n      <td>4752.0</td>\n      <td>4325.0</td>\n      <td>3774.0</td>\n      <td>4331.0</td>\n      <td>69439</td>\n      <td>4850.72</td>\n    </tr>\n    <tr>\n      <th>3</th>\n      <td>Immigrants</td>\n      <td>Foreigners</td>\n      <td>American Samoa</td>\n      <td>909</td>\n      <td>Oceania</td>\n      <td>957</td>\n      <td>Polynesia</td>\n      <td>902</td>\n      <td>Developing regions</td>\n      <td>0.0</td>\n      <td>...</td>\n      <td>1.0</td>\n      <td>0.0</td>\n      <td>0.0</td>\n      <td>0.0</td>\n      <td>0.0</td>\n      <td>0.0</td>\n      <td>0.0</td>\n      <td>0.0</td>\n      <td>6</td>\n      <td>0.00</td>\n    </tr>\n    <tr>\n      <th>4</th>\n      <td>Immigrants</td>\n      <td>Foreigners</td>\n      <td>Andorra</td>\n      <td>908</td>\n      <td>Europe</td>\n      <td>925</td>\n      <td>Southern Europe</td>\n      <td>901</td>\n      <td>Developed regions</td>\n      <td>0.0</td>\n      <td>...</td>\n      <td>1.0</td>\n      <td>1.0</td>\n      <td>0.0</td>\n      <td>0.0</td>\n      <td>0.0</td>\n      <td>0.0</td>\n      <td>1.0</td>\n      <td>1.0</td>\n      <td>15</td>\n      <td>1.12</td>\n    </tr>\n  </tbody>\n</table>\n<p>5 rows × 45 columns</p>\n</div>"
     },
     "metadata": {},
     "execution_count": 34
    }
   ],
   "source": [
    "df.head()"
   ]
  },
  {
   "cell_type": "markdown",
   "metadata": {},
   "source": [
    "## Count the total number of NaNs present: (Column wise & All)"
   ]
  },
  {
   "cell_type": "code",
   "execution_count": 35,
   "metadata": {},
   "outputs": [
    {
     "output_type": "execute_result",
     "data": {
      "text/plain": [
       "Type                    0\n",
       "Coverage                0\n",
       "OdName                  0\n",
       "AREA                    0\n",
       "AreaName                0\n",
       "REG                     0\n",
       "RegName                 0\n",
       "DEV                     0\n",
       "DevName                 0\n",
       "1980                    0\n",
       "1981                    0\n",
       "1982                    0\n",
       "1983                    0\n",
       "1984                    0\n",
       "1985                    0\n",
       "1986                    0\n",
       "1987                    0\n",
       "1988                    0\n",
       "1989                    0\n",
       "1990                    0\n",
       "1991                    0\n",
       "1992                    0\n",
       "1993                    0\n",
       "1994                    0\n",
       "1995                    0\n",
       "1996                    0\n",
       "1997                    0\n",
       "1998                    0\n",
       "1999                    0\n",
       "2000                    0\n",
       "2001                    0\n",
       "2002                    0\n",
       "2003                    0\n",
       "2004                    0\n",
       "2005                    0\n",
       "2006                    0\n",
       "2007                    0\n",
       "2008                    0\n",
       "2009                    0\n",
       "2010                    0\n",
       "2011                    0\n",
       "2012                    0\n",
       "2013                    0\n",
       "Total                   0\n",
       "predicted_immigrants    0\n",
       "dtype: int64"
      ]
     },
     "metadata": {},
     "execution_count": 35
    }
   ],
   "source": [
    "df.isnull().sum()"
   ]
  },
  {
   "cell_type": "code",
   "execution_count": 36,
   "metadata": {},
   "outputs": [
    {
     "output_type": "execute_result",
     "data": {
      "text/plain": [
       "0"
      ]
     },
     "metadata": {},
     "execution_count": 36
    }
   ],
   "source": [
    "df.isnull().sum().sum()"
   ]
  },
  {
   "cell_type": "code",
   "execution_count": 26,
   "metadata": {},
   "outputs": [
    {
     "output_type": "error",
     "ename": "SyntaxError",
     "evalue": "invalid syntax (<ipython-input-26-d8b2fb7fe2b4>, line 1)",
     "traceback": [
      "\u001b[1;36m  File \u001b[1;32m\"<ipython-input-26-d8b2fb7fe2b4>\"\u001b[1;36m, line \u001b[1;32m1\u001b[0m\n\u001b[1;33m    df.2006 = df.2006.fillna(\"xxx\")\u001b[0m\n\u001b[1;37m      ^\u001b[0m\n\u001b[1;31mSyntaxError\u001b[0m\u001b[1;31m:\u001b[0m invalid syntax\n"
     ]
    }
   ],
   "source": [
    "df.'2006' = df.2006.fillna(\"xxx\")"
   ]
  },
  {
   "cell_type": "markdown",
   "metadata": {},
   "source": []
  },
  {
   "cell_type": "code",
   "execution_count": 28,
   "metadata": {},
   "outputs": [
    {
     "output_type": "execute_result",
     "data": {
      "text/plain": [
       "         Type    Coverage          OdName AREA AreaName   REG  \\\n",
       "0  Immigrants  Foreigners     Afghanistan  935     Asia  5501   \n",
       "1  Immigrants  Foreigners         Albania  908   Europe   925   \n",
       "2  Immigrants  Foreigners         Algeria  903   Africa   912   \n",
       "3  Immigrants  Foreigners  American Samoa  909  Oceania   957   \n",
       "\n",
       "           RegName  DEV             DevName  1980  ...    2005    2006  \\\n",
       "0    Southern Asia  902  Developing regions  16.0  ...  3436.0  3009.0   \n",
       "1  Southern Europe  901   Developed regions   1.0  ...  1223.0   856.0   \n",
       "2  Northern Africa  902  Developing regions  80.0  ...  3626.0  4807.0   \n",
       "3        Polynesia  902  Developing regions   0.0  ...     0.0     1.0   \n",
       "\n",
       "     2007    2008    2009    2010    2011    2012    2013    Total  \n",
       "0  2652.0  2111.0  1746.0  1758.0  2203.0  2635.0  2004.0  58639.0  \n",
       "1   702.0   560.0   716.0   561.0   539.0   620.0   603.0  15699.0  \n",
       "2  3623.0  4005.0  5393.0  4752.0  4325.0  3774.0  4331.0  69439.0  \n",
       "3     0.0     0.0     0.0     0.0     0.0     0.0     0.0      6.0  \n",
       "\n",
       "[4 rows x 44 columns]"
      ],
      "text/html": "<div>\n<style scoped>\n    .dataframe tbody tr th:only-of-type {\n        vertical-align: middle;\n    }\n\n    .dataframe tbody tr th {\n        vertical-align: top;\n    }\n\n    .dataframe thead th {\n        text-align: right;\n    }\n</style>\n<table border=\"1\" class=\"dataframe\">\n  <thead>\n    <tr style=\"text-align: right;\">\n      <th></th>\n      <th>Type</th>\n      <th>Coverage</th>\n      <th>OdName</th>\n      <th>AREA</th>\n      <th>AreaName</th>\n      <th>REG</th>\n      <th>RegName</th>\n      <th>DEV</th>\n      <th>DevName</th>\n      <th>1980</th>\n      <th>...</th>\n      <th>2005</th>\n      <th>2006</th>\n      <th>2007</th>\n      <th>2008</th>\n      <th>2009</th>\n      <th>2010</th>\n      <th>2011</th>\n      <th>2012</th>\n      <th>2013</th>\n      <th>Total</th>\n    </tr>\n  </thead>\n  <tbody>\n    <tr>\n      <th>0</th>\n      <td>Immigrants</td>\n      <td>Foreigners</td>\n      <td>Afghanistan</td>\n      <td>935</td>\n      <td>Asia</td>\n      <td>5501</td>\n      <td>Southern Asia</td>\n      <td>902</td>\n      <td>Developing regions</td>\n      <td>16.0</td>\n      <td>...</td>\n      <td>3436.0</td>\n      <td>3009.0</td>\n      <td>2652.0</td>\n      <td>2111.0</td>\n      <td>1746.0</td>\n      <td>1758.0</td>\n      <td>2203.0</td>\n      <td>2635.0</td>\n      <td>2004.0</td>\n      <td>58639.0</td>\n    </tr>\n    <tr>\n      <th>1</th>\n      <td>Immigrants</td>\n      <td>Foreigners</td>\n      <td>Albania</td>\n      <td>908</td>\n      <td>Europe</td>\n      <td>925</td>\n      <td>Southern Europe</td>\n      <td>901</td>\n      <td>Developed regions</td>\n      <td>1.0</td>\n      <td>...</td>\n      <td>1223.0</td>\n      <td>856.0</td>\n      <td>702.0</td>\n      <td>560.0</td>\n      <td>716.0</td>\n      <td>561.0</td>\n      <td>539.0</td>\n      <td>620.0</td>\n      <td>603.0</td>\n      <td>15699.0</td>\n    </tr>\n    <tr>\n      <th>2</th>\n      <td>Immigrants</td>\n      <td>Foreigners</td>\n      <td>Algeria</td>\n      <td>903</td>\n      <td>Africa</td>\n      <td>912</td>\n      <td>Northern Africa</td>\n      <td>902</td>\n      <td>Developing regions</td>\n      <td>80.0</td>\n      <td>...</td>\n      <td>3626.0</td>\n      <td>4807.0</td>\n      <td>3623.0</td>\n      <td>4005.0</td>\n      <td>5393.0</td>\n      <td>4752.0</td>\n      <td>4325.0</td>\n      <td>3774.0</td>\n      <td>4331.0</td>\n      <td>69439.0</td>\n    </tr>\n    <tr>\n      <th>3</th>\n      <td>Immigrants</td>\n      <td>Foreigners</td>\n      <td>American Samoa</td>\n      <td>909</td>\n      <td>Oceania</td>\n      <td>957</td>\n      <td>Polynesia</td>\n      <td>902</td>\n      <td>Developing regions</td>\n      <td>0.0</td>\n      <td>...</td>\n      <td>0.0</td>\n      <td>1.0</td>\n      <td>0.0</td>\n      <td>0.0</td>\n      <td>0.0</td>\n      <td>0.0</td>\n      <td>0.0</td>\n      <td>0.0</td>\n      <td>0.0</td>\n      <td>6.0</td>\n    </tr>\n  </tbody>\n</table>\n<p>4 rows × 44 columns</p>\n</div>"
     },
     "metadata": {},
     "execution_count": 28
    }
   ],
   "source": [
    "df.head(4)"
   ]
  },
  {
   "source": [
    "## Change the N/A Column to 'xxx'"
   ],
   "cell_type": "markdown",
   "metadata": {}
  },
  {
   "cell_type": "code",
   "execution_count": 33,
   "metadata": {},
   "outputs": [],
   "source": [
    "df[2006] = df[2006].fillna(\"xxx\")"
   ]
  },
  {
   "cell_type": "code",
   "execution_count": 34,
   "metadata": {},
   "outputs": [
    {
     "output_type": "execute_result",
     "data": {
      "text/plain": [
       "         Type    Coverage          OdName AREA AreaName   REG  \\\n",
       "0  Immigrants  Foreigners     Afghanistan  935     Asia  5501   \n",
       "1  Immigrants  Foreigners         Albania  908   Europe   925   \n",
       "2  Immigrants  Foreigners         Algeria  903   Africa   912   \n",
       "3  Immigrants  Foreigners  American Samoa  909  Oceania   957   \n",
       "4  Immigrants  Foreigners         Andorra  908   Europe   925   \n",
       "\n",
       "           RegName  DEV             DevName  1980  ...    2005    2006  \\\n",
       "0    Southern Asia  902  Developing regions  16.0  ...  3436.0  3009.0   \n",
       "1  Southern Europe  901   Developed regions   1.0  ...  1223.0   856.0   \n",
       "2  Northern Africa  902  Developing regions  80.0  ...  3626.0  4807.0   \n",
       "3        Polynesia  902  Developing regions   0.0  ...     0.0     1.0   \n",
       "4  Southern Europe  901   Developed regions   0.0  ...     0.0     1.0   \n",
       "\n",
       "     2007    2008    2009    2010    2011    2012    2013    Total  \n",
       "0  2652.0  2111.0  1746.0  1758.0  2203.0  2635.0  2004.0  58639.0  \n",
       "1   702.0   560.0   716.0   561.0   539.0   620.0   603.0  15699.0  \n",
       "2  3623.0  4005.0  5393.0  4752.0  4325.0  3774.0  4331.0  69439.0  \n",
       "3     0.0     0.0     0.0     0.0     0.0     0.0     0.0      6.0  \n",
       "4     1.0     0.0     0.0     0.0     0.0     1.0     1.0     15.0  \n",
       "\n",
       "[5 rows x 44 columns]"
      ],
      "text/html": "<div>\n<style scoped>\n    .dataframe tbody tr th:only-of-type {\n        vertical-align: middle;\n    }\n\n    .dataframe tbody tr th {\n        vertical-align: top;\n    }\n\n    .dataframe thead th {\n        text-align: right;\n    }\n</style>\n<table border=\"1\" class=\"dataframe\">\n  <thead>\n    <tr style=\"text-align: right;\">\n      <th></th>\n      <th>Type</th>\n      <th>Coverage</th>\n      <th>OdName</th>\n      <th>AREA</th>\n      <th>AreaName</th>\n      <th>REG</th>\n      <th>RegName</th>\n      <th>DEV</th>\n      <th>DevName</th>\n      <th>1980</th>\n      <th>...</th>\n      <th>2005</th>\n      <th>2006</th>\n      <th>2007</th>\n      <th>2008</th>\n      <th>2009</th>\n      <th>2010</th>\n      <th>2011</th>\n      <th>2012</th>\n      <th>2013</th>\n      <th>Total</th>\n    </tr>\n  </thead>\n  <tbody>\n    <tr>\n      <th>0</th>\n      <td>Immigrants</td>\n      <td>Foreigners</td>\n      <td>Afghanistan</td>\n      <td>935</td>\n      <td>Asia</td>\n      <td>5501</td>\n      <td>Southern Asia</td>\n      <td>902</td>\n      <td>Developing regions</td>\n      <td>16.0</td>\n      <td>...</td>\n      <td>3436.0</td>\n      <td>3009.0</td>\n      <td>2652.0</td>\n      <td>2111.0</td>\n      <td>1746.0</td>\n      <td>1758.0</td>\n      <td>2203.0</td>\n      <td>2635.0</td>\n      <td>2004.0</td>\n      <td>58639.0</td>\n    </tr>\n    <tr>\n      <th>1</th>\n      <td>Immigrants</td>\n      <td>Foreigners</td>\n      <td>Albania</td>\n      <td>908</td>\n      <td>Europe</td>\n      <td>925</td>\n      <td>Southern Europe</td>\n      <td>901</td>\n      <td>Developed regions</td>\n      <td>1.0</td>\n      <td>...</td>\n      <td>1223.0</td>\n      <td>856.0</td>\n      <td>702.0</td>\n      <td>560.0</td>\n      <td>716.0</td>\n      <td>561.0</td>\n      <td>539.0</td>\n      <td>620.0</td>\n      <td>603.0</td>\n      <td>15699.0</td>\n    </tr>\n    <tr>\n      <th>2</th>\n      <td>Immigrants</td>\n      <td>Foreigners</td>\n      <td>Algeria</td>\n      <td>903</td>\n      <td>Africa</td>\n      <td>912</td>\n      <td>Northern Africa</td>\n      <td>902</td>\n      <td>Developing regions</td>\n      <td>80.0</td>\n      <td>...</td>\n      <td>3626.0</td>\n      <td>4807.0</td>\n      <td>3623.0</td>\n      <td>4005.0</td>\n      <td>5393.0</td>\n      <td>4752.0</td>\n      <td>4325.0</td>\n      <td>3774.0</td>\n      <td>4331.0</td>\n      <td>69439.0</td>\n    </tr>\n    <tr>\n      <th>3</th>\n      <td>Immigrants</td>\n      <td>Foreigners</td>\n      <td>American Samoa</td>\n      <td>909</td>\n      <td>Oceania</td>\n      <td>957</td>\n      <td>Polynesia</td>\n      <td>902</td>\n      <td>Developing regions</td>\n      <td>0.0</td>\n      <td>...</td>\n      <td>0.0</td>\n      <td>1.0</td>\n      <td>0.0</td>\n      <td>0.0</td>\n      <td>0.0</td>\n      <td>0.0</td>\n      <td>0.0</td>\n      <td>0.0</td>\n      <td>0.0</td>\n      <td>6.0</td>\n    </tr>\n    <tr>\n      <th>4</th>\n      <td>Immigrants</td>\n      <td>Foreigners</td>\n      <td>Andorra</td>\n      <td>908</td>\n      <td>Europe</td>\n      <td>925</td>\n      <td>Southern Europe</td>\n      <td>901</td>\n      <td>Developed regions</td>\n      <td>0.0</td>\n      <td>...</td>\n      <td>0.0</td>\n      <td>1.0</td>\n      <td>1.0</td>\n      <td>0.0</td>\n      <td>0.0</td>\n      <td>0.0</td>\n      <td>0.0</td>\n      <td>1.0</td>\n      <td>1.0</td>\n      <td>15.0</td>\n    </tr>\n  </tbody>\n</table>\n<p>5 rows × 44 columns</p>\n</div>"
     },
     "metadata": {},
     "execution_count": 34
    }
   ],
   "source": [
    "df.head()"
   ]
  },
  {
   "cell_type": "code",
   "execution_count": 38,
   "metadata": {},
   "outputs": [],
   "source": [
    "filtered_data3 = df[df[2006] == 'xxx']"
   ]
  },
  {
   "cell_type": "code",
   "execution_count": 39,
   "metadata": {},
   "outputs": [
    {
     "output_type": "execute_result",
     "data": {
      "text/plain": [
       "Empty DataFrame\n",
       "Columns: [Type, Coverage, OdName, AREA, AreaName, REG, RegName, DEV, DevName, 1980, 1981, 1982, 1983, 1984, 1985, 1986, 1987, 1988, 1989, 1990, 1991, 1992, 1993, 1994, 1995, 1996, 1997, 1998, 1999, 2000, 2001, 2002, 2003, 2004, 2005, 2006, 2007, 2008, 2009, 2010, 2011, 2012, 2013, Total]\n",
       "Index: []\n",
       "\n",
       "[0 rows x 44 columns]"
      ],
      "text/html": "<div>\n<style scoped>\n    .dataframe tbody tr th:only-of-type {\n        vertical-align: middle;\n    }\n\n    .dataframe tbody tr th {\n        vertical-align: top;\n    }\n\n    .dataframe thead th {\n        text-align: right;\n    }\n</style>\n<table border=\"1\" class=\"dataframe\">\n  <thead>\n    <tr style=\"text-align: right;\">\n      <th></th>\n      <th>Type</th>\n      <th>Coverage</th>\n      <th>OdName</th>\n      <th>AREA</th>\n      <th>AreaName</th>\n      <th>REG</th>\n      <th>RegName</th>\n      <th>DEV</th>\n      <th>DevName</th>\n      <th>1980</th>\n      <th>...</th>\n      <th>2005</th>\n      <th>2006</th>\n      <th>2007</th>\n      <th>2008</th>\n      <th>2009</th>\n      <th>2010</th>\n      <th>2011</th>\n      <th>2012</th>\n      <th>2013</th>\n      <th>Total</th>\n    </tr>\n  </thead>\n  <tbody>\n  </tbody>\n</table>\n<p>0 rows × 44 columns</p>\n</div>"
     },
     "metadata": {},
     "execution_count": 39
    }
   ],
   "source": [
    "filtered_data3"
   ]
  },
  {
   "cell_type": "code",
   "execution_count": null,
   "metadata": {},
   "outputs": [],
   "source": []
  }
 ],
 "metadata": {
  "kernelspec": {
   "display_name": "Python 3.7.3 64-bit ('base': conda)",
   "language": "python",
   "name": "python37364bitbaseconda574fdf2638fb459b96251cf40bda771b"
  },
  "language_info": {
   "codemirror_mode": {
    "name": "ipython",
    "version": 3
   },
   "file_extension": ".py",
   "mimetype": "text/x-python",
   "name": "python",
   "nbconvert_exporter": "python",
   "pygments_lexer": "ipython3",
   "version": "3.8.3-final"
  }
 },
 "nbformat": 4,
 "nbformat_minor": 4
}